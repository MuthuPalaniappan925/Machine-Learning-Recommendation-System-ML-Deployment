{
 "cells": [
  {
   "cell_type": "code",
   "execution_count": 1,
   "id": "8f5c09b4",
   "metadata": {},
   "outputs": [],
   "source": [
    "import pandas as pd\n",
    "import numpy as np\n",
    "#import sklearn\n",
    "from sklearn.feature_extraction.text import CountVectorizer\n",
    "from sklearn.metrics.pairwise import cosine_similarity,linear_kernel\n",
    "import difflib"
   ]
  },
  {
   "cell_type": "code",
   "execution_count": 2,
   "id": "7be4d56e",
   "metadata": {},
   "outputs": [],
   "source": [
    "data = pd.read_csv(\"nptel_electives.csv\")"
   ]
  },
  {
   "cell_type": "code",
   "execution_count": 3,
   "id": "9a90016a",
   "metadata": {},
   "outputs": [],
   "source": [
    "data.drop(columns='\\nCo-ordinating Institute',inplace=True)"
   ]
  },
  {
   "cell_type": "code",
   "execution_count": 4,
   "id": "6a3a00b9",
   "metadata": {},
   "outputs": [],
   "source": [
    "CS_data = data[(data['Discipline'] == 'Computer Science and Engineering') | (data['Discipline'] == 'Computer Science & Engineering') |(data['Discipline'] == 'Electrical and Electronics Engineering,\\n Computer Science and Engineering,\\n VLSI Specialization')]"
   ]
  },
  {
   "cell_type": "code",
   "execution_count": 5,
   "id": "42b0ec15",
   "metadata": {},
   "outputs": [
    {
     "name": "stdout",
     "output_type": "stream",
     "text": [
      "<class 'pandas.core.frame.DataFrame'>\n",
      "Int64Index: 47 entries, 81 to 158\n",
      "Data columns (total 14 columns):\n",
      " #   Column                         Non-Null Count  Dtype \n",
      "---  ------                         --------------  ----- \n",
      " 0   Unnamed: 0                     47 non-null     int64 \n",
      " 1   Course Id                      47 non-null     object\n",
      " 2   Discipline                     47 non-null     object\n",
      " 3   Course Name                    47 non-null     object\n",
      " 4   SME Name                       47 non-null     object\n",
      " 5   Institute                      47 non-null     object\n",
      " 6   Duration                       47 non-null     object\n",
      " 7   UG/PG                          47 non-null     object\n",
      " 8   Core/Elective                  47 non-null     object\n",
      " 9   Applicable NPTEL Domain        25 non-null     object\n",
      " 10  Click here to join the course  47 non-null     object\n",
      " 11  NPTEL URL                      47 non-null     object\n",
      " 12  credits                        47 non-null     int64 \n",
      " 13  Difficulty Level               47 non-null     object\n",
      "dtypes: int64(2), object(12)\n",
      "memory usage: 5.5+ KB\n"
     ]
    }
   ],
   "source": [
    "CS_data.info()"
   ]
  },
  {
   "cell_type": "code",
   "execution_count": 6,
   "id": "a3c4b5ab",
   "metadata": {},
   "outputs": [
    {
     "data": {
      "text/html": [
       "<div>\n",
       "<style scoped>\n",
       "    .dataframe tbody tr th:only-of-type {\n",
       "        vertical-align: middle;\n",
       "    }\n",
       "\n",
       "    .dataframe tbody tr th {\n",
       "        vertical-align: top;\n",
       "    }\n",
       "\n",
       "    .dataframe thead th {\n",
       "        text-align: right;\n",
       "    }\n",
       "</style>\n",
       "<table border=\"1\" class=\"dataframe\">\n",
       "  <thead>\n",
       "    <tr style=\"text-align: right;\">\n",
       "      <th></th>\n",
       "      <th>Unnamed: 0</th>\n",
       "      <th>Course Id</th>\n",
       "      <th>Discipline</th>\n",
       "      <th>Course Name</th>\n",
       "      <th>SME Name</th>\n",
       "      <th>Institute</th>\n",
       "      <th>Duration</th>\n",
       "      <th>UG/PG</th>\n",
       "      <th>Core/Elective</th>\n",
       "      <th>Applicable NPTEL Domain</th>\n",
       "      <th>Click here to join the course</th>\n",
       "      <th>NPTEL URL</th>\n",
       "      <th>credits</th>\n",
       "      <th>Difficulty Level</th>\n",
       "    </tr>\n",
       "  </thead>\n",
       "  <tbody>\n",
       "    <tr>\n",
       "      <th>81</th>\n",
       "      <td>181</td>\n",
       "      <td>noc23-cs01</td>\n",
       "      <td>Computer Science &amp; Engineering</td>\n",
       "      <td>Randomized Methods in Complexity</td>\n",
       "      <td>Prof. Nitin Saxena</td>\n",
       "      <td>IITK</td>\n",
       "      <td>12 Weeks</td>\n",
       "      <td>UG/PG</td>\n",
       "      <td>Elective</td>\n",
       "      <td>NaN</td>\n",
       "      <td>https://onlinecourses.nptel.ac.in/noc23_cs01</td>\n",
       "      <td>https://nptel.ac.in/courses/106104228</td>\n",
       "      <td>3</td>\n",
       "      <td>Intermediate</td>\n",
       "    </tr>\n",
       "    <tr>\n",
       "      <th>82</th>\n",
       "      <td>182</td>\n",
       "      <td>noc23-cs02</td>\n",
       "      <td>Computer Science &amp; Engineering</td>\n",
       "      <td>Introduction to programming in C</td>\n",
       "      <td>Prof. Satyadev Nandakumar</td>\n",
       "      <td>IITK</td>\n",
       "      <td>8 Weeks</td>\n",
       "      <td>UG/PG</td>\n",
       "      <td>Elective</td>\n",
       "      <td>NaN</td>\n",
       "      <td>https://onlinecourses.nptel.ac.in/noc23_cs02</td>\n",
       "      <td>https://nptel.ac.in/courses/106104128</td>\n",
       "      <td>2</td>\n",
       "      <td>Intermediate</td>\n",
       "    </tr>\n",
       "    <tr>\n",
       "      <th>83</th>\n",
       "      <td>183</td>\n",
       "      <td>noc23-cs03</td>\n",
       "      <td>Computer Science &amp; Engineering</td>\n",
       "      <td>Foundations of Cryptography</td>\n",
       "      <td>Prof. Ashish Choudhury</td>\n",
       "      <td>IIIT Bangalore</td>\n",
       "      <td>12 Weeks</td>\n",
       "      <td>UG/PG</td>\n",
       "      <td>Elective</td>\n",
       "      <td>Foundations Of Computing</td>\n",
       "      <td>https://onlinecourses.nptel.ac.in/noc23_cs03</td>\n",
       "      <td>https://nptel.ac.in/courses/106106221</td>\n",
       "      <td>3</td>\n",
       "      <td>Intermediate</td>\n",
       "    </tr>\n",
       "    <tr>\n",
       "      <th>84</th>\n",
       "      <td>184</td>\n",
       "      <td>noc23-cs04</td>\n",
       "      <td>Computer Science and Engineering</td>\n",
       "      <td>Quantum Algorithms and Cryptography</td>\n",
       "      <td>Prof. Shweta Agrawal</td>\n",
       "      <td>IITM</td>\n",
       "      <td>12 Weeks</td>\n",
       "      <td>UG/PG</td>\n",
       "      <td>Elective</td>\n",
       "      <td>NaN</td>\n",
       "      <td>https://onlinecourses.nptel.ac.in/noc23_cs04</td>\n",
       "      <td>https://nptel.ac.in/courses/106106241</td>\n",
       "      <td>3</td>\n",
       "      <td>Intermediate</td>\n",
       "    </tr>\n",
       "    <tr>\n",
       "      <th>85</th>\n",
       "      <td>185</td>\n",
       "      <td>noc23-cs05</td>\n",
       "      <td>Computer Science and Engineering</td>\n",
       "      <td>An Introduction to Artificial Intelligence</td>\n",
       "      <td>Prof. Mausam</td>\n",
       "      <td>IITD</td>\n",
       "      <td>12 Weeks</td>\n",
       "      <td>UG</td>\n",
       "      <td>Elective</td>\n",
       "      <td>Artificial Intelligence\\n Data Science\\n Robotics</td>\n",
       "      <td>https://onlinecourses.nptel.ac.in/noc23_cs05</td>\n",
       "      <td>https://nptel.ac.in/courses/106102220</td>\n",
       "      <td>3</td>\n",
       "      <td>Beginner</td>\n",
       "    </tr>\n",
       "  </tbody>\n",
       "</table>\n",
       "</div>"
      ],
      "text/plain": [
       "    Unnamed: 0   Course Id                        Discipline  \\\n",
       "81         181  noc23-cs01    Computer Science & Engineering   \n",
       "82         182  noc23-cs02    Computer Science & Engineering   \n",
       "83         183  noc23-cs03    Computer Science & Engineering   \n",
       "84         184  noc23-cs04  Computer Science and Engineering   \n",
       "85         185  noc23-cs05  Computer Science and Engineering   \n",
       "\n",
       "                                   Course Name                   SME Name  \\\n",
       "81            Randomized Methods in Complexity         Prof. Nitin Saxena   \n",
       "82            Introduction to programming in C  Prof. Satyadev Nandakumar   \n",
       "83                 Foundations of Cryptography     Prof. Ashish Choudhury   \n",
       "84         Quantum Algorithms and Cryptography       Prof. Shweta Agrawal   \n",
       "85  An Introduction to Artificial Intelligence               Prof. Mausam   \n",
       "\n",
       "         Institute  Duration  UG/PG Core/Elective  \\\n",
       "81            IITK  12 Weeks  UG/PG      Elective   \n",
       "82            IITK   8 Weeks  UG/PG      Elective   \n",
       "83  IIIT Bangalore  12 Weeks  UG/PG      Elective   \n",
       "84            IITM  12 Weeks  UG/PG      Elective   \n",
       "85            IITD  12 Weeks     UG      Elective   \n",
       "\n",
       "                              Applicable NPTEL Domain  \\\n",
       "81                                                NaN   \n",
       "82                                                NaN   \n",
       "83                           Foundations Of Computing   \n",
       "84                                                NaN   \n",
       "85  Artificial Intelligence\\n Data Science\\n Robotics   \n",
       "\n",
       "                   Click here to join the course  \\\n",
       "81  https://onlinecourses.nptel.ac.in/noc23_cs01   \n",
       "82  https://onlinecourses.nptel.ac.in/noc23_cs02   \n",
       "83  https://onlinecourses.nptel.ac.in/noc23_cs03   \n",
       "84  https://onlinecourses.nptel.ac.in/noc23_cs04   \n",
       "85  https://onlinecourses.nptel.ac.in/noc23_cs05   \n",
       "\n",
       "                                NPTEL URL  credits Difficulty Level  \n",
       "81  https://nptel.ac.in/courses/106104228        3     Intermediate  \n",
       "82  https://nptel.ac.in/courses/106104128        2     Intermediate  \n",
       "83  https://nptel.ac.in/courses/106106221        3     Intermediate  \n",
       "84  https://nptel.ac.in/courses/106106241        3     Intermediate  \n",
       "85  https://nptel.ac.in/courses/106102220        3         Beginner  "
      ]
     },
     "execution_count": 6,
     "metadata": {},
     "output_type": "execute_result"
    }
   ],
   "source": [
    "CS_data.head()"
   ]
  },
  {
   "cell_type": "code",
   "execution_count": 7,
   "id": "121e7826",
   "metadata": {},
   "outputs": [
    {
     "name": "stderr",
     "output_type": "stream",
     "text": [
      "C:\\Users\\admin\\AppData\\Local\\Temp\\ipykernel_1536\\2816617637.py:1: SettingWithCopyWarning: \n",
      "A value is trying to be set on a copy of a slice from a DataFrame.\n",
      "Try using .loc[row_indexer,col_indexer] = value instead\n",
      "\n",
      "See the caveats in the documentation: https://pandas.pydata.org/pandas-docs/stable/user_guide/indexing.html#returning-a-view-versus-a-copy\n",
      "  CS_data['credits'] = CS_data['credits'].astype('str')\n"
     ]
    }
   ],
   "source": [
    "CS_data['credits'] = CS_data['credits'].astype('str')"
   ]
  },
  {
   "cell_type": "code",
   "execution_count": 8,
   "id": "2add13a3",
   "metadata": {},
   "outputs": [
    {
     "name": "stderr",
     "output_type": "stream",
     "text": [
      "C:\\Users\\admin\\AppData\\Local\\Temp\\ipykernel_1536\\2501574164.py:1: SettingWithCopyWarning: \n",
      "A value is trying to be set on a copy of a slice from a DataFrame\n",
      "\n",
      "See the caveats in the documentation: https://pandas.pydata.org/pandas-docs/stable/user_guide/indexing.html#returning-a-view-versus-a-copy\n",
      "  CS_data['Applicable NPTEL Domain'].fillna(' ',inplace=True)\n"
     ]
    }
   ],
   "source": [
    "CS_data['Applicable NPTEL Domain'].fillna(' ',inplace=True)"
   ]
  },
  {
   "cell_type": "code",
   "execution_count": 9,
   "id": "8ea9f2f0",
   "metadata": {},
   "outputs": [],
   "source": [
    "feature1=CS_data['Course Name']"
   ]
  },
  {
   "cell_type": "code",
   "execution_count": 10,
   "id": "a1803bc0",
   "metadata": {},
   "outputs": [
    {
     "name": "stderr",
     "output_type": "stream",
     "text": [
      "C:\\Users\\admin\\AppData\\Local\\Temp\\ipykernel_1536\\1304001532.py:2: SettingWithCopyWarning: \n",
      "A value is trying to be set on a copy of a slice from a DataFrame.\n",
      "Try using .loc[row_indexer,col_indexer] = value instead\n",
      "\n",
      "See the caveats in the documentation: https://pandas.pydata.org/pandas-docs/stable/user_guide/indexing.html#returning-a-view-versus-a-copy\n",
      "  CS_data['index'] = li\n"
     ]
    }
   ],
   "source": [
    "li = [i for i in range(len(CS_data))]\n",
    "CS_data['index'] = li"
   ]
  },
  {
   "cell_type": "code",
   "execution_count": 11,
   "id": "8123f006",
   "metadata": {},
   "outputs": [],
   "source": [
    "count_vect = CountVectorizer()\n",
    "cv_mat = count_vect.fit_transform(feature1)\n",
    "cosine_sim_mat1= cosine_similarity(cv_mat)\n",
    "course_indices = pd.Series(CS_data.index,index=CS_data['Course Name']).drop_duplicates()\n"
   ]
  },
  {
   "cell_type": "code",
   "execution_count": 12,
   "id": "4cc26862",
   "metadata": {},
   "outputs": [],
   "source": [
    "import seaborn as sns"
   ]
  },
  {
   "cell_type": "code",
   "execution_count": 13,
   "id": "b6701d41",
   "metadata": {},
   "outputs": [
    {
     "name": "stderr",
     "output_type": "stream",
     "text": [
      "C:\\Users\\admin\\anaconda3\\lib\\site-packages\\seaborn\\_decorators.py:36: FutureWarning: Pass the following variable as a keyword arg: x. From version 0.12, the only valid positional argument will be `data`, and passing other arguments without an explicit keyword will result in an error or misinterpretation.\n",
      "  warnings.warn(\n"
     ]
    },
    {
     "data": {
      "text/plain": [
       "<AxesSubplot:xlabel='credits', ylabel='count'>"
      ]
     },
     "execution_count": 13,
     "metadata": {},
     "output_type": "execute_result"
    },
    {
     "data": {
      "image/png": "[encoded data removed]",
      "text/plain": [
       "<Figure size 432x288 with 1 Axes>"
      ]
     },
     "metadata": {
      "needs_background": "light"
     },
     "output_type": "display_data"
    }
   ],
   "source": [
    "sns.countplot(CS_data['credits'])"
   ]
  },
  {
   "cell_type": "code",
   "execution_count": 14,
   "id": "342201cc",
   "metadata": {},
   "outputs": [
    {
     "data": {
      "text/plain": [
       "<AxesSubplot:xlabel='credits', ylabel='Count'>"
      ]
     },
     "execution_count": 14,
     "metadata": {},
     "output_type": "execute_result"
    },
    {
     "data": {
      "image/png": "[encoded data removed]",
      "text/plain": [
       "<Figure size 432x288 with 1 Axes>"
      ]
     },
     "metadata": {
      "needs_background": "light"
     },
     "output_type": "display_data"
    }
   ],
   "source": [
    "sns.histplot(x=CS_data['credits'],hue=CS_data['Difficulty Level'],data=CS_data)"
   ]
  },
  {
   "cell_type": "code",
   "execution_count": null,
   "id": "350034c2",
   "metadata": {},
   "outputs": [],
   "source": []
  },
  {
   "cell_type": "code",
   "execution_count": 15,
   "id": "0a353e86",
   "metadata": {},
   "outputs": [
    {
     "name": "stdout",
     "output_type": "stream",
     "text": [
      "Enter Course name Data Analaytics\n",
      "Institue Name IITM\n",
      "Enter Course Duartion3\n",
      "UG/PGUG\n",
      "Core/Elective\n",
      "Applicable NPTEL Domain\n",
      "Enter Credits3\n",
      "Enter Difficulty level\n"
     ]
    }
   ],
   "source": [
    "cname = input(\"Enter Course name \")\n",
    "inst = input(\"Institue Name \")\n",
    "dur = input(\"Enter Course Duartion\")\n",
    "up = input(\"UG/PG\")\n",
    "ce = input(\"Core/Elective\")\n",
    "dom = input(\"Applicable NPTEL Domain\")\n",
    "cr = input(\"Enter Credits\")\n",
    "dfl = input(\"Enter Difficulty level\")\n",
    "\n",
    "title = inst+\" \"+dur+\" \"+up+\" \"+ce+\" \"+dom+\" \"+cr+\" \"+dfl"
   ]
  },
  {
   "cell_type": "code",
   "execution_count": 16,
   "id": "7afdce92",
   "metadata": {},
   "outputs": [],
   "source": [
    "#title = \"Getting Started with Competitive Programming I\""
   ]
  },
  {
   "cell_type": "code",
   "execution_count": 17,
   "id": "a49a4502",
   "metadata": {},
   "outputs": [
    {
     "data": {
      "text/plain": [
       "'Data Analytics with Python'"
      ]
     },
     "execution_count": 17,
     "metadata": {},
     "output_type": "execute_result"
    }
   ],
   "source": [
    "close_match = difflib.get_close_matches(cname,feature1)[0]\n",
    "close_match"
   ]
  },
  {
   "cell_type": "code",
   "execution_count": 18,
   "id": "aa9a6b49",
   "metadata": {},
   "outputs": [
    {
     "name": "stdout",
     "output_type": "stream",
     "text": [
      "Not Found\n",
      "Not Found\n",
      "Not Found\n",
      "Not Found\n",
      "Not Found\n",
      "Found\n",
      "Data Analytics with Python\n",
      "5\n"
     ]
    }
   ],
   "source": [
    "j=0\n",
    "for i in feature1:\n",
    "    if i==close_match:\n",
    "        print(\"Found\")\n",
    "        print(i)\n",
    "        print(j)\n",
    "        break\n",
    "    else:\n",
    "        print(\"Not Found\")\n",
    "        j+=1"
   ]
  },
  {
   "cell_type": "code",
   "execution_count": 19,
   "id": "ce2c6bfb",
   "metadata": {},
   "outputs": [],
   "source": [
    "similarity_score = list(enumerate(cosine_sim_mat1[j]))"
   ]
  },
  {
   "cell_type": "code",
   "execution_count": 20,
   "id": "c869cdee",
   "metadata": {},
   "outputs": [
    {
     "data": {
      "text/html": [
       "<div>\n",
       "<style scoped>\n",
       "    .dataframe tbody tr th:only-of-type {\n",
       "        vertical-align: middle;\n",
       "    }\n",
       "\n",
       "    .dataframe tbody tr th {\n",
       "        vertical-align: top;\n",
       "    }\n",
       "\n",
       "    .dataframe thead th {\n",
       "        text-align: right;\n",
       "    }\n",
       "</style>\n",
       "<table border=\"1\" class=\"dataframe\">\n",
       "  <thead>\n",
       "    <tr style=\"text-align: right;\">\n",
       "      <th></th>\n",
       "      <th>Unnamed: 0</th>\n",
       "      <th>Course Id</th>\n",
       "      <th>Discipline</th>\n",
       "      <th>Course Name</th>\n",
       "      <th>SME Name</th>\n",
       "      <th>Institute</th>\n",
       "      <th>Duration</th>\n",
       "      <th>UG/PG</th>\n",
       "      <th>Core/Elective</th>\n",
       "      <th>Applicable NPTEL Domain</th>\n",
       "      <th>Click here to join the course</th>\n",
       "      <th>NPTEL URL</th>\n",
       "      <th>credits</th>\n",
       "      <th>Difficulty Level</th>\n",
       "      <th>index</th>\n",
       "    </tr>\n",
       "  </thead>\n",
       "  <tbody>\n",
       "    <tr>\n",
       "      <th>98</th>\n",
       "      <td>201</td>\n",
       "      <td>noc23-cs21</td>\n",
       "      <td>Computer Science and Engineering</td>\n",
       "      <td>Python for Data Science</td>\n",
       "      <td>Prof. Ragunathan Rengasamy</td>\n",
       "      <td>IITM</td>\n",
       "      <td>4 Weeks</td>\n",
       "      <td>UG</td>\n",
       "      <td>Elective</td>\n",
       "      <td>Artificial Intelligence\\n Data Science</td>\n",
       "      <td>https://onlinecourses.nptel.ac.in/noc23_cs21</td>\n",
       "      <td>https://nptel.ac.in/courses/106106212</td>\n",
       "      <td>1</td>\n",
       "      <td>Beginner</td>\n",
       "      <td>17</td>\n",
       "    </tr>\n",
       "    <tr>\n",
       "      <th>92</th>\n",
       "      <td>195</td>\n",
       "      <td>noc23-cs15</td>\n",
       "      <td>Computer Science and Engineering</td>\n",
       "      <td>Programming, Data Structures And Algorithms Us...</td>\n",
       "      <td>Prof. Madhavan Mukund</td>\n",
       "      <td>CMI</td>\n",
       "      <td>8 Weeks</td>\n",
       "      <td>UG</td>\n",
       "      <td>Elective</td>\n",
       "      <td>Artificial Intelligence\\n Computational Biolog...</td>\n",
       "      <td>https://onlinecourses.nptel.ac.in/noc23_cs15</td>\n",
       "      <td>https://nptel.ac.in/courses/106106145</td>\n",
       "      <td>2</td>\n",
       "      <td>Beginner</td>\n",
       "      <td>11</td>\n",
       "    </tr>\n",
       "    <tr>\n",
       "      <th>115</th>\n",
       "      <td>223</td>\n",
       "      <td>noc23-cs43</td>\n",
       "      <td>Computer Science and Engineering</td>\n",
       "      <td>Data Mining</td>\n",
       "      <td>Prof. Pabitra Mitra</td>\n",
       "      <td>IITKGP</td>\n",
       "      <td>8 Weeks</td>\n",
       "      <td>UG</td>\n",
       "      <td>Elective</td>\n",
       "      <td></td>\n",
       "      <td>https://onlinecourses.nptel.ac.in/noc23_cs43</td>\n",
       "      <td>https://nptel.ac.in/courses/106105174</td>\n",
       "      <td>2</td>\n",
       "      <td>Beginner</td>\n",
       "      <td>34</td>\n",
       "    </tr>\n",
       "    <tr>\n",
       "      <th>94</th>\n",
       "      <td>197</td>\n",
       "      <td>noc23-cs17</td>\n",
       "      <td>Computer Science and Engineering</td>\n",
       "      <td>Data Science for Engineers</td>\n",
       "      <td>Prof. Ragunathan Rengasamy\\n Prof. Shankar Nar...</td>\n",
       "      <td>IITM</td>\n",
       "      <td>8 Weeks</td>\n",
       "      <td>UG/PG</td>\n",
       "      <td>Elective</td>\n",
       "      <td>Data Science\\n Programming</td>\n",
       "      <td>https://onlinecourses.nptel.ac.in/noc23_cs17</td>\n",
       "      <td>https://nptel.ac.in/courses/106106179</td>\n",
       "      <td>2</td>\n",
       "      <td>Intermediate</td>\n",
       "      <td>13</td>\n",
       "    </tr>\n",
       "    <tr>\n",
       "      <th>105</th>\n",
       "      <td>210</td>\n",
       "      <td>noc23-cs30</td>\n",
       "      <td>Computer Science and Engineering</td>\n",
       "      <td>Getting Started with Competitive Programming</td>\n",
       "      <td>Prof. Neeldhara Misra</td>\n",
       "      <td>IIT Gandhinagar</td>\n",
       "      <td>12 Weeks</td>\n",
       "      <td>UG</td>\n",
       "      <td>Elective</td>\n",
       "      <td></td>\n",
       "      <td>https://onlinecourses.nptel.ac.in/noc23_cs30</td>\n",
       "      <td>https://nptel.ac.in/courses/106106231</td>\n",
       "      <td>3</td>\n",
       "      <td>Beginner</td>\n",
       "      <td>24</td>\n",
       "    </tr>\n",
       "    <tr>\n",
       "      <th>97</th>\n",
       "      <td>200</td>\n",
       "      <td>noc23-cs20</td>\n",
       "      <td>Computer Science and Engineering</td>\n",
       "      <td>The Joy of Computing using Python</td>\n",
       "      <td>Prof. Sudarshan Iyengar</td>\n",
       "      <td>IIT Ropar</td>\n",
       "      <td>12 Weeks</td>\n",
       "      <td>UG/PG</td>\n",
       "      <td>Elective</td>\n",
       "      <td></td>\n",
       "      <td>https://onlinecourses.nptel.ac.in/noc23_cs20</td>\n",
       "      <td>https://nptel.ac.in/courses/106106182</td>\n",
       "      <td>3</td>\n",
       "      <td>Intermediate</td>\n",
       "      <td>16</td>\n",
       "    </tr>\n",
       "    <tr>\n",
       "      <th>104</th>\n",
       "      <td>208</td>\n",
       "      <td>noc23-cs28</td>\n",
       "      <td>Computer Science and Engineering</td>\n",
       "      <td>Introduction to parallel programming with Open...</td>\n",
       "      <td>Prof. Yogish Sabharwal</td>\n",
       "      <td>IITD</td>\n",
       "      <td>8 Weeks</td>\n",
       "      <td>UG/PG</td>\n",
       "      <td>Elective</td>\n",
       "      <td>Systems</td>\n",
       "      <td>https://onlinecourses.nptel.ac.in/noc23_cs28</td>\n",
       "      <td>https://nptel.ac.in/courses/106102163</td>\n",
       "      <td>2</td>\n",
       "      <td>Intermediate</td>\n",
       "      <td>23</td>\n",
       "    </tr>\n",
       "    <tr>\n",
       "      <th>81</th>\n",
       "      <td>181</td>\n",
       "      <td>noc23-cs01</td>\n",
       "      <td>Computer Science &amp; Engineering</td>\n",
       "      <td>Randomized Methods in Complexity</td>\n",
       "      <td>Prof. Nitin Saxena</td>\n",
       "      <td>IITK</td>\n",
       "      <td>12 Weeks</td>\n",
       "      <td>UG/PG</td>\n",
       "      <td>Elective</td>\n",
       "      <td></td>\n",
       "      <td>https://onlinecourses.nptel.ac.in/noc23_cs01</td>\n",
       "      <td>https://nptel.ac.in/courses/106104228</td>\n",
       "      <td>3</td>\n",
       "      <td>Intermediate</td>\n",
       "      <td>0</td>\n",
       "    </tr>\n",
       "    <tr>\n",
       "      <th>82</th>\n",
       "      <td>182</td>\n",
       "      <td>noc23-cs02</td>\n",
       "      <td>Computer Science &amp; Engineering</td>\n",
       "      <td>Introduction to programming in C</td>\n",
       "      <td>Prof. Satyadev Nandakumar</td>\n",
       "      <td>IITK</td>\n",
       "      <td>8 Weeks</td>\n",
       "      <td>UG/PG</td>\n",
       "      <td>Elective</td>\n",
       "      <td></td>\n",
       "      <td>https://onlinecourses.nptel.ac.in/noc23_cs02</td>\n",
       "      <td>https://nptel.ac.in/courses/106104128</td>\n",
       "      <td>2</td>\n",
       "      <td>Intermediate</td>\n",
       "      <td>1</td>\n",
       "    </tr>\n",
       "  </tbody>\n",
       "</table>\n",
       "</div>"
      ],
      "text/plain": [
       "     Unnamed: 0   Course Id                        Discipline  \\\n",
       "98          201  noc23-cs21  Computer Science and Engineering   \n",
       "92          195  noc23-cs15  Computer Science and Engineering   \n",
       "115         223  noc23-cs43  Computer Science and Engineering   \n",
       "94          197  noc23-cs17  Computer Science and Engineering   \n",
       "105         210  noc23-cs30  Computer Science and Engineering   \n",
       "97          200  noc23-cs20  Computer Science and Engineering   \n",
       "104         208  noc23-cs28  Computer Science and Engineering   \n",
       "81          181  noc23-cs01    Computer Science & Engineering   \n",
       "82          182  noc23-cs02    Computer Science & Engineering   \n",
       "\n",
       "                                           Course Name  \\\n",
       "98                             Python for Data Science   \n",
       "92   Programming, Data Structures And Algorithms Us...   \n",
       "115                                        Data Mining   \n",
       "94                          Data Science for Engineers   \n",
       "105       Getting Started with Competitive Programming   \n",
       "97                   The Joy of Computing using Python   \n",
       "104  Introduction to parallel programming with Open...   \n",
       "81                    Randomized Methods in Complexity   \n",
       "82                    Introduction to programming in C   \n",
       "\n",
       "                                              SME Name        Institute  \\\n",
       "98                          Prof. Ragunathan Rengasamy             IITM   \n",
       "92                               Prof. Madhavan Mukund              CMI   \n",
       "115                                Prof. Pabitra Mitra           IITKGP   \n",
       "94   Prof. Ragunathan Rengasamy\\n Prof. Shankar Nar...             IITM   \n",
       "105                              Prof. Neeldhara Misra  IIT Gandhinagar   \n",
       "97                             Prof. Sudarshan Iyengar        IIT Ropar   \n",
       "104                             Prof. Yogish Sabharwal             IITD   \n",
       "81                                  Prof. Nitin Saxena             IITK   \n",
       "82                           Prof. Satyadev Nandakumar             IITK   \n",
       "\n",
       "     Duration  UG/PG Core/Elective  \\\n",
       "98    4 Weeks     UG      Elective   \n",
       "92    8 Weeks     UG      Elective   \n",
       "115   8 Weeks     UG      Elective   \n",
       "94    8 Weeks  UG/PG      Elective   \n",
       "105  12 Weeks     UG      Elective   \n",
       "97   12 Weeks  UG/PG      Elective   \n",
       "104   8 Weeks  UG/PG      Elective   \n",
       "81   12 Weeks  UG/PG      Elective   \n",
       "82    8 Weeks  UG/PG      Elective   \n",
       "\n",
       "                               Applicable NPTEL Domain  \\\n",
       "98              Artificial Intelligence\\n Data Science   \n",
       "92   Artificial Intelligence\\n Computational Biolog...   \n",
       "115                                                      \n",
       "94                          Data Science\\n Programming   \n",
       "105                                                      \n",
       "97                                                       \n",
       "104                                            Systems   \n",
       "81                                                       \n",
       "82                                                       \n",
       "\n",
       "                    Click here to join the course  \\\n",
       "98   https://onlinecourses.nptel.ac.in/noc23_cs21   \n",
       "92   https://onlinecourses.nptel.ac.in/noc23_cs15   \n",
       "115  https://onlinecourses.nptel.ac.in/noc23_cs43   \n",
       "94   https://onlinecourses.nptel.ac.in/noc23_cs17   \n",
       "105  https://onlinecourses.nptel.ac.in/noc23_cs30   \n",
       "97   https://onlinecourses.nptel.ac.in/noc23_cs20   \n",
       "104  https://onlinecourses.nptel.ac.in/noc23_cs28   \n",
       "81   https://onlinecourses.nptel.ac.in/noc23_cs01   \n",
       "82   https://onlinecourses.nptel.ac.in/noc23_cs02   \n",
       "\n",
       "                                 NPTEL URL credits Difficulty Level  index  \n",
       "98   https://nptel.ac.in/courses/106106212       1         Beginner     17  \n",
       "92   https://nptel.ac.in/courses/106106145       2         Beginner     11  \n",
       "115  https://nptel.ac.in/courses/106105174       2         Beginner     34  \n",
       "94   https://nptel.ac.in/courses/106106179       2     Intermediate     13  \n",
       "105  https://nptel.ac.in/courses/106106231       3         Beginner     24  \n",
       "97   https://nptel.ac.in/courses/106106182       3     Intermediate     16  \n",
       "104  https://nptel.ac.in/courses/106102163       2     Intermediate     23  \n",
       "81   https://nptel.ac.in/courses/106104228       3     Intermediate      0  \n",
       "82   https://nptel.ac.in/courses/106104128       2     Intermediate      1  "
      ]
     },
     "execution_count": 20,
     "metadata": {},
     "output_type": "execute_result"
    }
   ],
   "source": [
    "sorted_sim_Score = sorted(similarity_score,key=lambda x : x[1],reverse=True)\n",
    "selected_course_indices = [i[0] for i in sorted_sim_Score[1:10]]\n",
    "selected_course_indices\n",
    "result_df = CS_data.iloc[selected_course_indices]\n",
    "result_df"
   ]
  },
  {
   "cell_type": "code",
   "execution_count": 23,
   "id": "2d95e4c1",
   "metadata": {},
   "outputs": [
    {
     "data": {
      "text/plain": [
       "(9, 15)"
      ]
     },
     "execution_count": 23,
     "metadata": {},
     "output_type": "execute_result"
    }
   ],
   "source": [
    "result_df.shape"
   ]
  },
  {
   "cell_type": "code",
   "execution_count": 24,
   "id": "af49e9ce",
   "metadata": {},
   "outputs": [
    {
     "data": {
      "text/plain": [
       "2    5\n",
       "3    3\n",
       "1    1\n",
       "Name: credits, dtype: int64"
      ]
     },
     "execution_count": 24,
     "metadata": {},
     "output_type": "execute_result"
    }
   ],
   "source": [
    "result_df['credits'].value_counts()"
   ]
  },
  {
   "cell_type": "code",
   "execution_count": 31,
   "id": "55213514",
   "metadata": {},
   "outputs": [],
   "source": [
    "new_df = result_df[result_df['credits'] == '2']"
   ]
  },
  {
   "cell_type": "code",
   "execution_count": 32,
   "id": "a9af65d6",
   "metadata": {},
   "outputs": [
    {
     "data": {
      "text/html": [
       "<div>\n",
       "<style scoped>\n",
       "    .dataframe tbody tr th:only-of-type {\n",
       "        vertical-align: middle;\n",
       "    }\n",
       "\n",
       "    .dataframe tbody tr th {\n",
       "        vertical-align: top;\n",
       "    }\n",
       "\n",
       "    .dataframe thead th {\n",
       "        text-align: right;\n",
       "    }\n",
       "</style>\n",
       "<table border=\"1\" class=\"dataframe\">\n",
       "  <thead>\n",
       "    <tr style=\"text-align: right;\">\n",
       "      <th></th>\n",
       "      <th>Unnamed: 0</th>\n",
       "      <th>Course Id</th>\n",
       "      <th>Discipline</th>\n",
       "      <th>Course Name</th>\n",
       "      <th>SME Name</th>\n",
       "      <th>Institute</th>\n",
       "      <th>Duration</th>\n",
       "      <th>UG/PG</th>\n",
       "      <th>Core/Elective</th>\n",
       "      <th>Applicable NPTEL Domain</th>\n",
       "      <th>Click here to join the course</th>\n",
       "      <th>NPTEL URL</th>\n",
       "      <th>credits</th>\n",
       "      <th>Difficulty Level</th>\n",
       "      <th>index</th>\n",
       "    </tr>\n",
       "  </thead>\n",
       "  <tbody>\n",
       "    <tr>\n",
       "      <th>92</th>\n",
       "      <td>195</td>\n",
       "      <td>noc23-cs15</td>\n",
       "      <td>Computer Science and Engineering</td>\n",
       "      <td>Programming, Data Structures And Algorithms Us...</td>\n",
       "      <td>Prof. Madhavan Mukund</td>\n",
       "      <td>CMI</td>\n",
       "      <td>8 Weeks</td>\n",
       "      <td>UG</td>\n",
       "      <td>Elective</td>\n",
       "      <td>Artificial Intelligence\\n Computational Biolog...</td>\n",
       "      <td>https://onlinecourses.nptel.ac.in/noc23_cs15</td>\n",
       "      <td>https://nptel.ac.in/courses/106106145</td>\n",
       "      <td>2</td>\n",
       "      <td>Beginner</td>\n",
       "      <td>11</td>\n",
       "    </tr>\n",
       "    <tr>\n",
       "      <th>115</th>\n",
       "      <td>223</td>\n",
       "      <td>noc23-cs43</td>\n",
       "      <td>Computer Science and Engineering</td>\n",
       "      <td>Data Mining</td>\n",
       "      <td>Prof. Pabitra Mitra</td>\n",
       "      <td>IITKGP</td>\n",
       "      <td>8 Weeks</td>\n",
       "      <td>UG</td>\n",
       "      <td>Elective</td>\n",
       "      <td></td>\n",
       "      <td>https://onlinecourses.nptel.ac.in/noc23_cs43</td>\n",
       "      <td>https://nptel.ac.in/courses/106105174</td>\n",
       "      <td>2</td>\n",
       "      <td>Beginner</td>\n",
       "      <td>34</td>\n",
       "    </tr>\n",
       "    <tr>\n",
       "      <th>94</th>\n",
       "      <td>197</td>\n",
       "      <td>noc23-cs17</td>\n",
       "      <td>Computer Science and Engineering</td>\n",
       "      <td>Data Science for Engineers</td>\n",
       "      <td>Prof. Ragunathan Rengasamy\\n Prof. Shankar Nar...</td>\n",
       "      <td>IITM</td>\n",
       "      <td>8 Weeks</td>\n",
       "      <td>UG/PG</td>\n",
       "      <td>Elective</td>\n",
       "      <td>Data Science\\n Programming</td>\n",
       "      <td>https://onlinecourses.nptel.ac.in/noc23_cs17</td>\n",
       "      <td>https://nptel.ac.in/courses/106106179</td>\n",
       "      <td>2</td>\n",
       "      <td>Intermediate</td>\n",
       "      <td>13</td>\n",
       "    </tr>\n",
       "    <tr>\n",
       "      <th>104</th>\n",
       "      <td>208</td>\n",
       "      <td>noc23-cs28</td>\n",
       "      <td>Computer Science and Engineering</td>\n",
       "      <td>Introduction to parallel programming with Open...</td>\n",
       "      <td>Prof. Yogish Sabharwal</td>\n",
       "      <td>IITD</td>\n",
       "      <td>8 Weeks</td>\n",
       "      <td>UG/PG</td>\n",
       "      <td>Elective</td>\n",
       "      <td>Systems</td>\n",
       "      <td>https://onlinecourses.nptel.ac.in/noc23_cs28</td>\n",
       "      <td>https://nptel.ac.in/courses/106102163</td>\n",
       "      <td>2</td>\n",
       "      <td>Intermediate</td>\n",
       "      <td>23</td>\n",
       "    </tr>\n",
       "    <tr>\n",
       "      <th>82</th>\n",
       "      <td>182</td>\n",
       "      <td>noc23-cs02</td>\n",
       "      <td>Computer Science &amp; Engineering</td>\n",
       "      <td>Introduction to programming in C</td>\n",
       "      <td>Prof. Satyadev Nandakumar</td>\n",
       "      <td>IITK</td>\n",
       "      <td>8 Weeks</td>\n",
       "      <td>UG/PG</td>\n",
       "      <td>Elective</td>\n",
       "      <td></td>\n",
       "      <td>https://onlinecourses.nptel.ac.in/noc23_cs02</td>\n",
       "      <td>https://nptel.ac.in/courses/106104128</td>\n",
       "      <td>2</td>\n",
       "      <td>Intermediate</td>\n",
       "      <td>1</td>\n",
       "    </tr>\n",
       "  </tbody>\n",
       "</table>\n",
       "</div>"
      ],
      "text/plain": [
       "     Unnamed: 0   Course Id                        Discipline  \\\n",
       "92          195  noc23-cs15  Computer Science and Engineering   \n",
       "115         223  noc23-cs43  Computer Science and Engineering   \n",
       "94          197  noc23-cs17  Computer Science and Engineering   \n",
       "104         208  noc23-cs28  Computer Science and Engineering   \n",
       "82          182  noc23-cs02    Computer Science & Engineering   \n",
       "\n",
       "                                           Course Name  \\\n",
       "92   Programming, Data Structures And Algorithms Us...   \n",
       "115                                        Data Mining   \n",
       "94                          Data Science for Engineers   \n",
       "104  Introduction to parallel programming with Open...   \n",
       "82                    Introduction to programming in C   \n",
       "\n",
       "                                              SME Name Institute Duration  \\\n",
       "92                               Prof. Madhavan Mukund       CMI  8 Weeks   \n",
       "115                                Prof. Pabitra Mitra    IITKGP  8 Weeks   \n",
       "94   Prof. Ragunathan Rengasamy\\n Prof. Shankar Nar...      IITM  8 Weeks   \n",
       "104                             Prof. Yogish Sabharwal      IITD  8 Weeks   \n",
       "82                           Prof. Satyadev Nandakumar      IITK  8 Weeks   \n",
       "\n",
       "     UG/PG Core/Elective                            Applicable NPTEL Domain  \\\n",
       "92      UG      Elective  Artificial Intelligence\\n Computational Biolog...   \n",
       "115     UG      Elective                                                      \n",
       "94   UG/PG      Elective                         Data Science\\n Programming   \n",
       "104  UG/PG      Elective                                            Systems   \n",
       "82   UG/PG      Elective                                                      \n",
       "\n",
       "                    Click here to join the course  \\\n",
       "92   https://onlinecourses.nptel.ac.in/noc23_cs15   \n",
       "115  https://onlinecourses.nptel.ac.in/noc23_cs43   \n",
       "94   https://onlinecourses.nptel.ac.in/noc23_cs17   \n",
       "104  https://onlinecourses.nptel.ac.in/noc23_cs28   \n",
       "82   https://onlinecourses.nptel.ac.in/noc23_cs02   \n",
       "\n",
       "                                 NPTEL URL credits Difficulty Level  index  \n",
       "92   https://nptel.ac.in/courses/106106145       2         Beginner     11  \n",
       "115  https://nptel.ac.in/courses/106105174       2         Beginner     34  \n",
       "94   https://nptel.ac.in/courses/106106179       2     Intermediate     13  \n",
       "104  https://nptel.ac.in/courses/106102163       2     Intermediate     23  \n",
       "82   https://nptel.ac.in/courses/106104128       2     Intermediate      1  "
      ]
     },
     "execution_count": 32,
     "metadata": {},
     "output_type": "execute_result"
    }
   ],
   "source": [
    "new_df"
   ]
  },
  {
   "cell_type": "code",
   "execution_count": 34,
   "id": "c2036cb0",
   "metadata": {},
   "outputs": [
    {
     "data": {
      "text/html": [
       "<div>\n",
       "<style scoped>\n",
       "    .dataframe tbody tr th:only-of-type {\n",
       "        vertical-align: middle;\n",
       "    }\n",
       "\n",
       "    .dataframe tbody tr th {\n",
       "        vertical-align: top;\n",
       "    }\n",
       "\n",
       "    .dataframe thead th {\n",
       "        text-align: right;\n",
       "    }\n",
       "</style>\n",
       "<table border=\"1\" class=\"dataframe\">\n",
       "  <thead>\n",
       "    <tr style=\"text-align: right;\">\n",
       "      <th></th>\n",
       "      <th>Unnamed: 0</th>\n",
       "      <th>Course Id</th>\n",
       "      <th>Discipline</th>\n",
       "      <th>Course Name</th>\n",
       "      <th>SME Name</th>\n",
       "      <th>Institute</th>\n",
       "      <th>Duration</th>\n",
       "      <th>UG/PG</th>\n",
       "      <th>Core/Elective</th>\n",
       "      <th>Applicable NPTEL Domain</th>\n",
       "      <th>Click here to join the course</th>\n",
       "      <th>NPTEL URL</th>\n",
       "      <th>credits</th>\n",
       "      <th>Difficulty Level</th>\n",
       "      <th>index</th>\n",
       "    </tr>\n",
       "  </thead>\n",
       "  <tbody>\n",
       "    <tr>\n",
       "      <th>98</th>\n",
       "      <td>201</td>\n",
       "      <td>noc23-cs21</td>\n",
       "      <td>Computer Science and Engineering</td>\n",
       "      <td>Python for Data Science</td>\n",
       "      <td>Prof. Ragunathan Rengasamy</td>\n",
       "      <td>IITM</td>\n",
       "      <td>4 Weeks</td>\n",
       "      <td>UG</td>\n",
       "      <td>Elective</td>\n",
       "      <td>Artificial Intelligence\\n Data Science</td>\n",
       "      <td>https://onlinecourses.nptel.ac.in/noc23_cs21</td>\n",
       "      <td>https://nptel.ac.in/courses/106106212</td>\n",
       "      <td>1</td>\n",
       "      <td>Beginner</td>\n",
       "      <td>17</td>\n",
       "    </tr>\n",
       "    <tr>\n",
       "      <th>94</th>\n",
       "      <td>197</td>\n",
       "      <td>noc23-cs17</td>\n",
       "      <td>Computer Science and Engineering</td>\n",
       "      <td>Data Science for Engineers</td>\n",
       "      <td>Prof. Ragunathan Rengasamy\\n Prof. Shankar Nar...</td>\n",
       "      <td>IITM</td>\n",
       "      <td>8 Weeks</td>\n",
       "      <td>UG/PG</td>\n",
       "      <td>Elective</td>\n",
       "      <td>Data Science\\n Programming</td>\n",
       "      <td>https://onlinecourses.nptel.ac.in/noc23_cs17</td>\n",
       "      <td>https://nptel.ac.in/courses/106106179</td>\n",
       "      <td>2</td>\n",
       "      <td>Intermediate</td>\n",
       "      <td>13</td>\n",
       "    </tr>\n",
       "  </tbody>\n",
       "</table>\n",
       "</div>"
      ],
      "text/plain": [
       "    Unnamed: 0   Course Id                        Discipline  \\\n",
       "98         201  noc23-cs21  Computer Science and Engineering   \n",
       "94         197  noc23-cs17  Computer Science and Engineering   \n",
       "\n",
       "                   Course Name  \\\n",
       "98     Python for Data Science   \n",
       "94  Data Science for Engineers   \n",
       "\n",
       "                                             SME Name Institute Duration  \\\n",
       "98                         Prof. Ragunathan Rengasamy      IITM  4 Weeks   \n",
       "94  Prof. Ragunathan Rengasamy\\n Prof. Shankar Nar...      IITM  8 Weeks   \n",
       "\n",
       "    UG/PG Core/Elective                 Applicable NPTEL Domain  \\\n",
       "98     UG      Elective  Artificial Intelligence\\n Data Science   \n",
       "94  UG/PG      Elective              Data Science\\n Programming   \n",
       "\n",
       "                   Click here to join the course  \\\n",
       "98  https://onlinecourses.nptel.ac.in/noc23_cs21   \n",
       "94  https://onlinecourses.nptel.ac.in/noc23_cs17   \n",
       "\n",
       "                                NPTEL URL credits Difficulty Level  index  \n",
       "98  https://nptel.ac.in/courses/106106212       1         Beginner     17  \n",
       "94  https://nptel.ac.in/courses/106106179       2     Intermediate     13  "
      ]
     },
     "execution_count": 34,
     "metadata": {},
     "output_type": "execute_result"
    }
   ],
   "source": [
    "new_df_2 = result_df[result_df['Institute']=='IITM']\n",
    "new_df_2"
   ]
  },
  {
   "cell_type": "code",
   "execution_count": 21,
   "id": "a8bece65",
   "metadata": {},
   "outputs": [],
   "source": [
    "feature_selected = result_df['Institute'] + \" \" + result_df['Duration'] + \" \" + result_df['UG/PG'] + \" \" + result_df['Core/Elective'] + \" \" + result_df['Applicable NPTEL Domain'] + \" \" + result_df['credits'] + \" \" + result_df['Difficulty Level']"
   ]
  }
 ],
 "metadata": {
  "kernelspec": {
   "display_name": "Python 3 (ipykernel)",
   "language": "python",
   "name": "python3"
  },
  "language_info": {
   "codemirror_mode": {
    "name": "ipython",
    "version": 3
   },
   "file_extension": ".py",
   "mimetype": "text/x-python",
   "name": "python",
   "nbconvert_exporter": "python",
   "pygments_lexer": "ipython3",
   "version": "3.9.12"
  }
 },
 "nbformat": 4,
 "nbformat_minor": 5
}
